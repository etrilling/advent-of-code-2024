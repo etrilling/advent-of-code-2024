{
 "cells": [
  {
   "cell_type": "code",
   "execution_count": 68,
   "metadata": {},
   "outputs": [
    {
     "data": {
      "text/plain": [
       "442"
      ]
     },
     "execution_count": 68,
     "metadata": {},
     "output_type": "execute_result"
    }
   ],
   "source": [
    "def report_is_safe(report):\n",
    "    diffs = [report[i+1] - report[i] for i in range(len(report)-1)]\n",
    "\n",
    "    has_pos_num = False\n",
    "    has_neg_num = False\n",
    "    is_monotone = True\n",
    "    in_range = True\n",
    "    for diff in diffs:\n",
    "        if abs(diff) < 1 or abs(diff) > 3:\n",
    "            in_range = False\n",
    "            break\n",
    "\n",
    "        if diff > 0:\n",
    "            has_pos_num = True\n",
    "        elif diff < 0:\n",
    "            has_neg_num = True\n",
    "        \n",
    "        if has_neg_num and has_pos_num:\n",
    "            is_monotone = False\n",
    "            break\n",
    "    \n",
    "    return in_range and is_monotone\n",
    "\n",
    "\n",
    "with open('day02-input01.txt') as f:\n",
    "    data = f.read()\n",
    "\n",
    "\n",
    "counter = 0\n",
    "for line in data.splitlines():\n",
    "    report = [int(s) for s in line.split()]\n",
    "    \n",
    "    if report_is_safe(report):\n",
    "        counter += 1\n",
    "\n",
    "counter"
   ]
  },
  {
   "cell_type": "code",
   "execution_count": 75,
   "metadata": {},
   "outputs": [
    {
     "data": {
      "text/plain": [
       "493"
      ]
     },
     "execution_count": 75,
     "metadata": {},
     "output_type": "execute_result"
    }
   ],
   "source": [
    "with open('day02-input01.txt') as f:\n",
    "    data = f.read()\n",
    "\n",
    "# data = \"\"\"30 32 33 35 38 42 41\"\"\"\n",
    "\n",
    "counter = 0\n",
    "for line in data.splitlines():\n",
    "    report = [int(s) for s in line.split()]\n",
    "    \n",
    "    for i in range(len(report)):\n",
    "        report_without_element = report[:i] + report[i+1:]\n",
    "\n",
    "        if report_is_safe(report_without_element):\n",
    "            counter += 1\n",
    "            break\n",
    "\n",
    "counter"
   ]
  },
  {
   "cell_type": "code",
   "execution_count": null,
   "metadata": {},
   "outputs": [],
   "source": []
  },
  {
   "cell_type": "code",
   "execution_count": 74,
   "metadata": {},
   "outputs": [],
   "source": [
    "# with open('day02-input01.txt') as f:\n",
    "#     data = f.read()\n",
    "\n",
    "# data = \"\"\"30 32 33 35 38 42 41\"\"\"\n",
    "\n",
    "# counter = 0\n",
    "# for line in data.splitlines():\n",
    "#     report = [int(s) for s in line.split()]\n",
    "\n",
    "#     diffs = [report[i+1] - report[i] for i in range(len(report)-1)]\n",
    "#     print(diffs)\n",
    "\n",
    "#     num_pos_diffs = 0\n",
    "#     num_neg_diffs = 0\n",
    "#     num_zero_diffs = 0\n",
    "#     num_range_violations = 0\n",
    "#     for diff in diffs:\n",
    "#         if abs(diff) > 3:\n",
    "#             num_range_violations += 1\n",
    "        \n",
    "#         if diff > 0:\n",
    "#             num_pos_diffs += 1\n",
    "#         elif diff < 0:\n",
    "#             num_neg_diffs += 1\n",
    "#         else:\n",
    "#             num_zero_diffs += 1\n",
    "\n",
    "#     diffs_okay = False\n",
    "#     if num_pos_diffs >= 1 and num_neg_diffs + num_zero_diffs + num_range_violations <= 1:\n",
    "#         diffs_okay = True\n",
    "#     elif num_neg_diffs >= 1 and num_pos_diffs + num_zero_diffs + num_range_violations <= 1:\n",
    "#         diffs_okay = True\n",
    "    \n",
    "#     # print(num_pos_diffs, num_neg_diffs, num_zero_diffs, in_range)\n",
    "#     # print(diffs_okay)\n",
    "\n",
    "#     if diffs_okay:\n",
    "#         counter += 1\n",
    "\n",
    "# counter"
   ]
  },
  {
   "cell_type": "code",
   "execution_count": null,
   "metadata": {},
   "outputs": [],
   "source": []
  }
 ],
 "metadata": {
  "kernelspec": {
   "display_name": "ds312",
   "language": "python",
   "name": "python3"
  },
  "language_info": {
   "codemirror_mode": {
    "name": "ipython",
    "version": 3
   },
   "file_extension": ".py",
   "mimetype": "text/x-python",
   "name": "python",
   "nbconvert_exporter": "python",
   "pygments_lexer": "ipython3",
   "version": "3.12.4"
  }
 },
 "nbformat": 4,
 "nbformat_minor": 2
}
