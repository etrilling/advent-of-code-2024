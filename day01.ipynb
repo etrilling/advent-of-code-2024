{
 "cells": [
  {
   "cell_type": "code",
   "execution_count": 4,
   "metadata": {},
   "outputs": [
    {
     "data": {
      "text/plain": [
       "1722302"
      ]
     },
     "execution_count": 4,
     "metadata": {},
     "output_type": "execute_result"
    }
   ],
   "source": [
    "with open('day01-input01.txt') as f:\n",
    "    data = f.read()\n",
    "\n",
    "list1 = []\n",
    "list2 = []\n",
    "for line in data.splitlines():\n",
    "    a, b = line.split()\n",
    "    list1.append(int(a))\n",
    "    list2.append(int(b))\n",
    "\n",
    "list1.sort()\n",
    "list2.sort()\n",
    "\n",
    "total = 0\n",
    "for i in range(len(list1)):\n",
    "    total += abs(list1[i] - list2[i])\n",
    "\n",
    "total"
   ]
  },
  {
   "cell_type": "code",
   "execution_count": 7,
   "metadata": {},
   "outputs": [
    {
     "data": {
      "text/plain": [
       "20373490"
      ]
     },
     "execution_count": 7,
     "metadata": {},
     "output_type": "execute_result"
    }
   ],
   "source": [
    "entry_to_count = {}\n",
    "for i in range(len(list2)):\n",
    "    entry_to_count[list2[i]] = entry_to_count.get(list2[i], 0) + 1\n",
    "\n",
    "similarity_score = 0\n",
    "for i in range(len(list1)):\n",
    "    similarity_score += list1[i] * entry_to_count.get(list1[i], 0)\n",
    "\n",
    "similarity_score"
   ]
  }
 ],
 "metadata": {
  "kernelspec": {
   "display_name": "ds312",
   "language": "python",
   "name": "python3"
  },
  "language_info": {
   "codemirror_mode": {
    "name": "ipython",
    "version": 3
   },
   "file_extension": ".py",
   "mimetype": "text/x-python",
   "name": "python",
   "nbconvert_exporter": "python",
   "pygments_lexer": "ipython3",
   "version": "3.12.4"
  }
 },
 "nbformat": 4,
 "nbformat_minor": 2
}
