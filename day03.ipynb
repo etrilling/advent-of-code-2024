{
 "cells": [
  {
   "cell_type": "code",
   "execution_count": 63,
   "metadata": {},
   "outputs": [
    {
     "data": {
      "text/plain": [
       "173529487"
      ]
     },
     "execution_count": 63,
     "metadata": {},
     "output_type": "execute_result"
    }
   ],
   "source": [
    "with open('day03-input01.txt') as f:\n",
    "    data = f.read()\n",
    "\n",
    "# data = \"xmul(2,4)%&mul[3,7]!@^do_not_mul(5,5)+mul(32,64]then(mul(11,8)mul(8,5))\"\n",
    "\n",
    "total_sum = 0\n",
    "\n",
    "start = 0\n",
    "while True:\n",
    "    start_index = data.find('mul(', start)\n",
    "\n",
    "    comma_index = data.find(',', start_index)\n",
    "\n",
    "    closing_paren_index = data.find(')', comma_index)\n",
    "\n",
    "    if start_index == -1 or comma_index == -1 or closing_paren_index == -1:\n",
    "        break\n",
    "\n",
    "    num1_str = data[start_index + 4 : comma_index]\n",
    "    num2_str = data[comma_index + 1 : closing_paren_index]\n",
    "\n",
    "    if len(num1_str) >= 1 and len(num1_str) <= 3 and len(num2_str) >= 1 and len(num2_str) <= 3:\n",
    "        try:\n",
    "            num1 = int(num1_str)\n",
    "            num2 = int(num2_str)\n",
    "            total_sum += num1 * num2\n",
    "        except ValueError:\n",
    "            pass\n",
    "\n",
    "    start = start_index + 1\n",
    "\n",
    "total_sum"
   ]
  },
  {
   "cell_type": "code",
   "execution_count": 65,
   "metadata": {},
   "outputs": [
    {
     "data": {
      "text/plain": [
       "99532691"
      ]
     },
     "execution_count": 65,
     "metadata": {},
     "output_type": "execute_result"
    }
   ],
   "source": [
    "with open('day03-input01.txt') as f:\n",
    "    data = f.read()\n",
    "\n",
    "# data = \"xmul(2,4)%&mul[3,7]!@^do_not_mul(5,5)+mul(32,64]then(mul(11,8)mul(8,5))\"\n",
    "\n",
    "total_sum = 0\n",
    "\n",
    "is_enabled = True\n",
    "\n",
    "for i in range(len(data)):\n",
    "    if data[i:i+4] == 'do()':\n",
    "        is_enabled = True\n",
    "    elif data[i:i+7] == \"don't()\":\n",
    "        is_enabled = False\n",
    "        continue\n",
    "\n",
    "    if data[i:i+4] != 'mul(':\n",
    "        continue\n",
    "    mul_index = i\n",
    "    \n",
    "    comma_index = data.find(',', mul_index)\n",
    "\n",
    "    closing_paren_index = data.find(')', comma_index)\n",
    "\n",
    "    if mul_index == -1 or comma_index == -1 or closing_paren_index == -1:\n",
    "        break\n",
    "\n",
    "    num1_str = data[mul_index + 4 : comma_index]\n",
    "    num2_str = data[comma_index + 1 : closing_paren_index]\n",
    "\n",
    "    if len(num1_str) >= 1 and len(num1_str) <= 3 and len(num2_str) >= 1 and len(num2_str) <= 3:\n",
    "        try:\n",
    "            num1 = int(num1_str)\n",
    "            num2 = int(num2_str)\n",
    "            total_sum += num1 * num2 if is_enabled else 0\n",
    "        except ValueError:\n",
    "            pass\n",
    "\n",
    "total_sum"
   ]
  },
  {
   "cell_type": "code",
   "execution_count": null,
   "metadata": {},
   "outputs": [],
   "source": []
  }
 ],
 "metadata": {
  "kernelspec": {
   "display_name": "ds312",
   "language": "python",
   "name": "python3"
  },
  "language_info": {
   "codemirror_mode": {
    "name": "ipython",
    "version": 3
   },
   "file_extension": ".py",
   "mimetype": "text/x-python",
   "name": "python",
   "nbconvert_exporter": "python",
   "pygments_lexer": "ipython3",
   "version": "3.12.4"
  }
 },
 "nbformat": 4,
 "nbformat_minor": 2
}
