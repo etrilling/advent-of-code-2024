{
 "cells": [
  {
   "cell_type": "code",
   "execution_count": 5,
   "metadata": {},
   "outputs": [
    {
     "data": {
      "text/plain": [
       "2427"
      ]
     },
     "execution_count": 5,
     "metadata": {},
     "output_type": "execute_result"
    }
   ],
   "source": [
    "with open('day04-input01.txt') as f:\n",
    "    data = f.read()\n",
    "\n",
    "# data = \"\"\"MMMSXXMASM\n",
    "# MSAMXMSMSA\n",
    "# AMXSXMAAMM\n",
    "# MSAMASMSMX\n",
    "# XMASAMXAMM\n",
    "# XXAMMXXAMA\n",
    "# SMSMSASXSS\n",
    "# SAXAMASAAA\n",
    "# MAMMMXMMMM\n",
    "# MXMXAXMASX\"\"\"\n",
    "\n",
    "lines = data.splitlines()\n",
    "\n",
    "step_directions = [(0, 1), (0, -1),\n",
    "                   (1, 0), (-1, 0),\n",
    "                   (1, 1), (-1, -1), (1, -1), (-1, 1)]\n",
    "\n",
    "n_rows = len(lines)\n",
    "n_cols = len(lines[0])\n",
    "\n",
    "xmas_counter = 0\n",
    "for y_start in range(n_rows):\n",
    "    for x_start in range(n_cols):\n",
    "        for dy, dx in step_directions:\n",
    "            found_xmas = True\n",
    "\n",
    "            for step in range(4):\n",
    "                y = y_start + dy*step\n",
    "                x = x_start + dx*step\n",
    "\n",
    "                if x < 0 or x >= n_cols or y < 0 or y >= n_rows:\n",
    "                    found_xmas = False\n",
    "                    break\n",
    "\n",
    "                if lines[y][x] != 'XMAS'[step]:\n",
    "                    found_xmas = False\n",
    "                    break\n",
    "            \n",
    "            if found_xmas == True:\n",
    "                xmas_counter += 1\n",
    "\n",
    "xmas_counter\n"
   ]
  },
  {
   "cell_type": "code",
   "execution_count": 16,
   "metadata": {},
   "outputs": [
    {
     "data": {
      "text/plain": [
       "1900"
      ]
     },
     "execution_count": 16,
     "metadata": {},
     "output_type": "execute_result"
    }
   ],
   "source": [
    "with open('day04-input01.txt') as f:\n",
    "    data = f.read()\n",
    "\n",
    "# data = \"\"\"MMMSXXMASM\n",
    "# MSAMXMSMSA\n",
    "# AMXSXMAAMM\n",
    "# MSAMASMSMX\n",
    "# XMASAMXAMM\n",
    "# XXAMMXXAMA\n",
    "# SMSMSASXSS\n",
    "# SAXAMASAAA\n",
    "# MAMMMXMMMM\n",
    "# MXMXAXMASX\"\"\"\n",
    "\n",
    "# data = \"\"\".M.S......\n",
    "# ..A..MSMS.\n",
    "# .M.S.MAA..\n",
    "# ..A.ASMSM.\n",
    "# .M.S.M....\n",
    "# ..........\n",
    "# S.S.S.S.S.\n",
    "# .A.A.A.A..\n",
    "# M.M.M.M.M.\n",
    "# ..........\"\"\"\n",
    "\n",
    "lines = data.splitlines()\n",
    "\n",
    "n_rows = len(lines)\n",
    "n_cols = len(lines[0])\n",
    "\n",
    "xmas_counter = 0\n",
    "for y in range(n_rows):\n",
    "    for x in range(n_cols):\n",
    "        if y - 1 < 0 or y + 1 >= n_rows or x - 1 < 0 or x + 1 >= n_cols:\n",
    "            continue\n",
    "\n",
    "        if lines[y][x] != 'A':\n",
    "            continue\n",
    "\n",
    "        # check major diagonal\n",
    "        if set([lines[y - 1][x - 1], lines[y + 1][x + 1]]) != set(['M', 'S']):\n",
    "            continue\n",
    "\n",
    "        # check off axis diagonal\n",
    "        if set([lines[y - 1][x + 1], lines[y + 1][x - 1]]) != set(['M', 'S']):\n",
    "            continue\n",
    "        \n",
    "        xmas_counter += 1\n",
    "\n",
    "xmas_counter\n"
   ]
  }
 ],
 "metadata": {
  "kernelspec": {
   "display_name": "ds312",
   "language": "python",
   "name": "python3"
  },
  "language_info": {
   "codemirror_mode": {
    "name": "ipython",
    "version": 3
   },
   "file_extension": ".py",
   "mimetype": "text/x-python",
   "name": "python",
   "nbconvert_exporter": "python",
   "pygments_lexer": "ipython3",
   "version": "3.12.4"
  }
 },
 "nbformat": 4,
 "nbformat_minor": 2
}
