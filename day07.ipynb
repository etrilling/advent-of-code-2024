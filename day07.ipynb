{
 "cells": [
  {
   "cell_type": "code",
   "execution_count": 33,
   "metadata": {},
   "outputs": [
    {
     "name": "stderr",
     "output_type": "stream",
     "text": [
      "100%|██████████| 850/850 [01:51<00:00,  7.61it/s]\n"
     ]
    },
    {
     "data": {
      "text/plain": [
       "38322057216320"
      ]
     },
     "execution_count": 33,
     "metadata": {},
     "output_type": "execute_result"
    }
   ],
   "source": [
    "import itertools\n",
    "from tqdm import tqdm\n",
    "from math import log10, floor\n",
    "\n",
    "with open('day07-input01.txt') as f:\n",
    "    data = f.read()\n",
    "\n",
    "# data = \"\"\"190: 10 19\n",
    "# 3267: 81 40 27\n",
    "# 83: 17 5\n",
    "# 156: 15 6\n",
    "# 7290: 6 8 6 15\n",
    "# 161011: 16 10 13\n",
    "# 192: 17 8 14\n",
    "# 21037: 9 7 18 13\n",
    "# 292: 11 6 16 20\"\"\"\n",
    "\n",
    "counter = 0\n",
    "for line in tqdm(data.splitlines()):\n",
    "    result_str, inputs_str = line.split(': ')\n",
    "\n",
    "    result = int(result_str)\n",
    "    inputs = [int(s) for s in inputs_str.split()]\n",
    "\n",
    "    n_ops = len(inputs) - 1\n",
    "\n",
    "    # print(result, inputs)\n",
    "\n",
    "    for ops in itertools.product('+*|', repeat=n_ops):\n",
    "        possible_result = inputs[0]\n",
    "        for i in range(n_ops):\n",
    "            if ops[i] == '+':\n",
    "                possible_result = possible_result + inputs[i + 1]\n",
    "            elif ops[i] == '*':\n",
    "                possible_result = possible_result * inputs[i + 1]\n",
    "            elif ops[i] == '|':\n",
    "                possible_result = int(str(possible_result) + str(inputs[i + 1]))\n",
    "                # possible_result = possible_result * 10**floor(log10(possible_result)) + inputs[i + 1]\n",
    "        \n",
    "        # print(ops, possible_result)\n",
    "\n",
    "        if possible_result == result:\n",
    "            # print('ding!')\n",
    "            counter += result\n",
    "            break\n",
    "\n",
    "counter"
   ]
  },
  {
   "cell_type": "code",
   "execution_count": null,
   "metadata": {},
   "outputs": [
    {
     "data": {
      "text/plain": [
       "[('+', '+', '+'),\n",
       " ('+', '+', '*'),\n",
       " ('+', '*', '+'),\n",
       " ('+', '*', '*'),\n",
       " ('*', '+', '+'),\n",
       " ('*', '+', '*'),\n",
       " ('*', '*', '+'),\n",
       " ('*', '*', '*')]"
      ]
     },
     "execution_count": 5,
     "metadata": {},
     "output_type": "execute_result"
    }
   ],
   "source": [
    "\n",
    "\n",
    "list(itertools.product('+*', repeat=3))"
   ]
  }
 ],
 "metadata": {
  "kernelspec": {
   "display_name": "ds312",
   "language": "python",
   "name": "python3"
  },
  "language_info": {
   "codemirror_mode": {
    "name": "ipython",
    "version": 3
   },
   "file_extension": ".py",
   "mimetype": "text/x-python",
   "name": "python",
   "nbconvert_exporter": "python",
   "pygments_lexer": "ipython3",
   "version": "3.12.4"
  }
 },
 "nbformat": 4,
 "nbformat_minor": 2
}
